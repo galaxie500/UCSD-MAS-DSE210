{
 "cells": [
  {
   "cell_type": "markdown",
   "metadata": {},
   "source": [
    "# DSE 10 Homework 4 - Due 02/05/2021 9:00am"
   ]
  },
  {
   "cell_type": "code",
   "execution_count": 1,
   "metadata": {},
   "outputs": [],
   "source": [
    "import numpy as np\n",
    "import pandas as pd\n",
    "import matplotlib.pyplot as plt\n",
    "from scipy.stats import multivariate_normal as mvn\n",
    "\n",
    "#modules for worksheet 10\n",
    "from sklearn.cluster import KMeans\n",
    "from scipy.cluster.hierarchy import dendrogram, linkage\n",
    "from pylab import rcParams # for display "
   ]
  },
  {
   "cell_type": "markdown",
   "metadata": {},
   "source": [
    "# Worksheet 9 Problem 3"
   ]
  },
  {
   "cell_type": "markdown",
   "metadata": {},
   "source": [
    "#### all the data for problem 3 will be saved in ``cwd/20news-bydate/matlab``, ``cwd`` is current working directory, except for \"vocabulary.txt\" will be saved in ``cwd``."
   ]
  },
  {
   "cell_type": "markdown",
   "metadata": {},
   "source": [
    "## Problem 3 (a)"
   ]
  },
  {
   "cell_type": "code",
   "execution_count": 2,
   "metadata": {
    "scrolled": true
   },
   "outputs": [
    {
     "name": "stdout",
     "output_type": "stream",
     "text": [
      "  % Total    % Received % Xferd  Average Speed   Time    Time     Time  Current\n",
      "                                 Dload  Upload   Total   Spent    Left  Speed\n",
      "100 13.7M  100 13.7M    0     0  3510k      0  0:00:04  0:00:04 --:--:-- 3510k\n"
     ]
    }
   ],
   "source": [
    "!curl http://qwone.com/~jason/20Newsgroups/20news-bydate.tar.gz -o 20news-bydate.tar.gz\n",
    "    \n",
    "!tar -xf 20news-bydate.tar.gz && rm 20news-bydate.tar.gz"
   ]
  },
  {
   "cell_type": "code",
   "execution_count": 3,
   "metadata": {
    "scrolled": false
   },
   "outputs": [
    {
     "name": "stdout",
     "output_type": "stream",
     "text": [
      "\u001b[34m20news-bydate-test\u001b[m\u001b[m              predicate-matrix.png\r\n",
      "\u001b[34m20news-bydate-train\u001b[m\u001b[m             predicates.txt\r\n",
      "\u001b[34mFeatures\u001b[m\u001b[m                        t10k-images-idx3-ubyte\r\n",
      "README-attributes.txt           t10k-labels-idx1-ubyte\r\n",
      "classes.txt                     testclasses.txt\r\n",
      "hu_yuan.ipynb                   train-images-idx3-ubyte\r\n",
      "lampert-cvpr2009.pdf            train-labels-idx1-ubyte\r\n",
      "predicate-matrix-binary.txt     trainclasses.txt\r\n",
      "predicate-matrix-continuous.txt\r\n"
     ]
    }
   ],
   "source": [
    "!ls"
   ]
  },
  {
   "cell_type": "code",
   "execution_count": 4,
   "metadata": {},
   "outputs": [],
   "source": [
    "#!rm -r 20news-bydate-train && rm -r 20news-bydate-test"
   ]
  },
  {
   "cell_type": "markdown",
   "metadata": {},
   "source": [
    "## Problem 3 (b)"
   ]
  },
  {
   "cell_type": "markdown",
   "metadata": {},
   "source": [
    "#### (b) The same website has a processed version of the data, “[20news-bydate-matlab.tgz](http://qwone.com/~jason/20Newsgroups/20news-bydate-matlab.tgz)”, that is particularly convenient to use. Download this and also the file “[vocabulary.txt](http://qwone.com/~jason/20Newsgroups/vocabulary.txt)”. Look at the first training document in the processed set and the corresponding original text document to under\u0002stand the relation between the two."
   ]
  },
  {
   "cell_type": "code",
   "execution_count": 5,
   "metadata": {
    "scrolled": false
   },
   "outputs": [
    {
     "name": "stdout",
     "output_type": "stream",
     "text": [
      "  % Total    % Received % Xferd  Average Speed   Time    Time     Time  Current\n",
      "                                 Dload  Upload   Total   Spent    Left  Speed\n",
      "100 7398k  100 7398k    0     0  2595k      0  0:00:02  0:00:02 --:--:-- 2594k  0:00:03  0:00:02  0:00:01 2326k\n",
      "  % Total    % Received % Xferd  Average Speed   Time    Time     Time  Current\n",
      "                                 Dload  Upload   Total   Spent    Left  Speed\n",
      "100  482k  100  482k    0     0   749k      0 --:--:-- --:--:-- --:--:--  749k\n"
     ]
    }
   ],
   "source": [
    "#download 20news-bydate\n",
    "!curl http://qwone.com/~jason/20Newsgroups/20news-bydate-matlab.tgz -o data\n",
    "#download vocabulary.txt\n",
    "!curl http://qwone.com/~jason/20Newsgroups/vocabulary.txt -o vocabulary.txt\n",
    "\n",
    "#unzip and delete zip file\n",
    "!tar -xf data  && rm data"
   ]
  },
  {
   "cell_type": "code",
   "execution_count": 6,
   "metadata": {},
   "outputs": [
    {
     "name": "stdout",
     "output_type": "stream",
     "text": [
      "\u001b[34m20news-bydate\u001b[m\u001b[m                   predicate-matrix.png\r\n",
      "\u001b[34m20news-bydate-test\u001b[m\u001b[m              predicates.txt\r\n",
      "\u001b[34m20news-bydate-train\u001b[m\u001b[m             t10k-images-idx3-ubyte\r\n",
      "\u001b[34mFeatures\u001b[m\u001b[m                        t10k-labels-idx1-ubyte\r\n",
      "README-attributes.txt           testclasses.txt\r\n",
      "classes.txt                     train-images-idx3-ubyte\r\n",
      "hu_yuan.ipynb                   train-labels-idx1-ubyte\r\n",
      "lampert-cvpr2009.pdf            trainclasses.txt\r\n",
      "predicate-matrix-binary.txt     vocabulary.txt\r\n",
      "predicate-matrix-continuous.txt\r\n"
     ]
    }
   ],
   "source": [
    "!ls"
   ]
  },
  {
   "cell_type": "code",
   "execution_count": 7,
   "metadata": {},
   "outputs": [],
   "source": [
    "def data_processing(data_path, label_path):\n",
    "    #process labels\n",
    "    labels = pd.read_csv(label_path, header = None)\n",
    "    labels = labels.rename(columns={0: \"Class\"})\n",
    "    labels.index = labels.index + 1\n",
    "    labels.index.names = ['docIdx']\n",
    "    \n",
    "    #process data\n",
    "    data = pd.read_csv(data_path, delimiter = \" \", header = None)\n",
    "    data.rename(columns={0: \"docIdx\", 1: \"wordIdx\", 2: \"Count\"}, inplace=True) \n",
    "    \n",
    "    return data, labels\n",
    "\n",
    "def count_V(filepath):\n",
    "    f = open(filepath, 'r')\n",
    "    words = f.readlines()\n",
    "    return len(words)"
   ]
  },
  {
   "cell_type": "code",
   "execution_count": 8,
   "metadata": {
    "scrolled": true
   },
   "outputs": [
    {
     "name": "stdout",
     "output_type": "stream",
     "text": [
      "Problem 3(b):\n",
      "===============================================================\n",
      "train.data(first 10 rows in transposed display):\n",
      "         0  1   2  3  4  5  6  7  8   9\n",
      "docIdx   1  1   1  1  1  1  1  1  1   1\n",
      "wordIdx  1  2   3  4  5  6  7  8  9  10\n",
      "Count    4  2  10  4  2  1  1  1  3   9\n",
      "Class    1  1   1  1  1  1  1  1  1   1\n",
      "\n",
      "\n",
      "label.data:\n",
      "[ 1  1  1 ... 20 20 20]\n",
      "---------------------------------------------------------------\n",
      "The raw matlab train.data was organized by 3 columns: \n",
      "    1st column(dodIdx)   --->  the index of documents\n",
      "    2nd column(wordIdx)  --->  the index of words\n",
      "    3rd column(Count)    --->  the count of occurrence of words\n",
      "         \n",
      "The raw matlab train.label stores labels for each documents\n"
     ]
    }
   ],
   "source": [
    "#load and preprocess training data\n",
    "train_data = '20news-bydate/matlab/train.data'\n",
    "train_label = '20news-bydate/matlab/train.label'\n",
    "data, labels = data_processing(train_data, train_label)\n",
    "\n",
    "#merge data with labels\n",
    "data = data.merge(labels, how='left', on='docIdx')\n",
    "\n",
    "#load and preprocess testing data\n",
    "test_data = '20news-bydate/matlab/test.data'\n",
    "test_labels = '20news-bydate/matlab/test.label'\n",
    "test, test_labels = data_processing(test_data, test_labels)\n",
    "\n",
    "#number of words\n",
    "V_path = 'vocabulary.txt'\n",
    "n_words = count_V(V_path)\n",
    "\n",
    "print(f\"Problem 3(b):\")\n",
    "print(\"===============================================================\")\n",
    "print(\"train.data(first 10 rows in transposed display):\")\n",
    "print(data.head(10).T)\n",
    "print(\"\\n\")\n",
    "print(\"label.data:\")\n",
    "print(labels.Class.values)\n",
    "print(\"---------------------------------------------------------------\")\n",
    "print(\"\"\"The raw matlab train.data was organized by 3 columns: \n",
    "    1st column(dodIdx)   --->  the index of documents\n",
    "    2nd column(wordIdx)  --->  the index of words\n",
    "    3rd column(Count)    --->  the count of occurrence of words\n",
    "         \n",
    "The raw matlab train.label stores labels for each documents\"\"\")"
   ]
  },
  {
   "cell_type": "markdown",
   "metadata": {},
   "source": [
    "## Problem 3 (c)"
   ]
  },
  {
   "cell_type": "markdown",
   "metadata": {},
   "source": [
    "#### (c) The words in the documents constitute an overall vocabulary V of size 61188. Build a multinomial Naive Bayes model using the training data. For each of the 20 classes j = 1, 2, . . . , 20, you must have the following:\n",
    "   "
   ]
  },
  {
   "cell_type": "markdown",
   "metadata": {},
   "source": [
    "- #### $\\pi_j$, the fraction of documents that belong to that class\n",
    "- #### $P_j$, a probability distribution over V that models the documents of that class"
   ]
  },
  {
   "cell_type": "markdown",
   "metadata": {},
   "source": [
    "#### In order to fit $P_j$ , imagine that all the documents of class $j$ are strung together. For each word $w \\in V$ , let Pjw be the fraction of this concatenated document occupied by $w$. Well, almost: you will need to do smoothing (just add one to the count of how often $w$ occurs)."
   ]
  },
  {
   "cell_type": "markdown",
   "metadata": {},
   "source": [
    "#### Raw data ---> DataFrames ---> Bag-of-Words Matrix ---> NaiveBayesMultinomial( ) ---> Result"
   ]
  },
  {
   "cell_type": "code",
   "execution_count": 9,
   "metadata": {},
   "outputs": [],
   "source": [
    "def bag_of_words(df, n_words):\n",
    "    \"\"\"\n",
    "    dataframe: DataFrame(\"docIdx\",\"wordIdx\",\"Count\",\"Class\")\n",
    "    n_words: the number of unique words in \"vocabulary.txt\"\n",
    "    \n",
    "    word_mat: word count matrix of shape (n_documents, n_words)\n",
    "              this result also will serve us as X_train\n",
    "    \"\"\"\n",
    "    n_docs = df.docIdx.nunique()\n",
    "\n",
    "    word_mat = np.zeros((n_docs, n_words))\n",
    "    for i in range(n_docs):\n",
    "        doc = df[df.docIdx==i+1]\n",
    "        word_vec = np.zeros((n_words, ))\n",
    "        mask = doc.wordIdx.values-1\n",
    "        word_vec[mask] = doc.Count.values\n",
    "        word_mat[i]=word_vec\n",
    "        \n",
    "    return word_mat"
   ]
  },
  {
   "cell_type": "code",
   "execution_count": 10,
   "metadata": {},
   "outputs": [],
   "source": [
    "class NaiveBayesMultinomial():\n",
    "    \"\"\"Class implement of Naive Bayes Multinomial Classifier\"\"\"\n",
    "    \n",
    "    \n",
    "    def __init__(self, alpha=1, tf='f', tfidf=False):\n",
    "        self.alpha = alpha\n",
    "        self.tf = tf\n",
    "        self.tfidf = tfidf\n",
    "        print(f\"Initiating Naive-Bayes-Multinomial-Classifier: alpha={self.alpha}, tf={self.tf}, tfidf={self.tfidf}\")\n",
    "        \n",
    "        \n",
    "    def fit(self, X, y):\n",
    "        self.n_classes = np.unique(y).shape[0]\n",
    "        self.n_docs = X.shape[0]\n",
    "        self.n_words = X.shape[1]\n",
    "        \n",
    "        #vector(20,), number of documents in each class\n",
    "        n_docs_class = np.array([y[y==j].shape[0] for j in range(1, self.n_classes+1)]) #class starts from 1\n",
    "        self.prior = n_docs_class/np.sum(n_docs_class)\n",
    "        \n",
    "        self.likelihood = self._multinomials(X, y)\n",
    "        \n",
    "        \n",
    "    def _multinomials(self, X, y):\n",
    "        tf = np.zeros((self.n_classes, self.n_words))\n",
    "\n",
    "        for j in range(20):\n",
    "            jth_class = X[y==j+1]\n",
    "            #add-one smoothing\n",
    "            f = (np.sum(jth_class, axis=0) + self.alpha)/(np.sum(jth_class) + self.alpha*n_words)\n",
    "            if self.tf == 'f':\n",
    "                tf[j] = f\n",
    "            else:\n",
    "                tf[j] = np.log(1+f)\n",
    "        return tf\n",
    "    \n",
    "\n",
    "    # calculate optimal solution for MAP estimator\n",
    "    def predict(self, X):\n",
    "        if X.ndim == 1:\n",
    "            n_test_samples = 1\n",
    "        else:\n",
    "            n_test_samples = X.shape[0]\n",
    "\n",
    "        labels = np.zeros((n_test_samples, ))\n",
    "        for i in range(n_test_samples):\n",
    "            log_prob = np.sum(np.log(self.likelihood)*X[i], axis=1) + np.log(self.prior)\n",
    "            labels[i] = np.argmax(log_prob)+1\n",
    "        return labels\n",
    "    \n",
    "    \n",
    "    def accuracy(self, X, y):\n",
    "        acc = X[X==y].shape[0]/y.shape[0]\n",
    "        print(f\"Predicting on {y.shape[0]} samples, Accuracy:{round(acc, 3)}\")\n",
    "        return acc\n",
    "    \n",
    "    \n",
    "    def clf_instance(self):\n",
    "        return self.prior, self.likelihood"
   ]
  },
  {
   "cell_type": "code",
   "execution_count": 11,
   "metadata": {},
   "outputs": [],
   "source": [
    "X_train = bag_of_words(data, n_words)\n",
    "y_train = labels.Class.values"
   ]
  },
  {
   "cell_type": "code",
   "execution_count": 12,
   "metadata": {},
   "outputs": [
    {
     "name": "stdout",
     "output_type": "stream",
     "text": [
      "Initiating Naive-Bayes-Multinomial-Classifier: alpha=1, tf=f, tfidf=False\n",
      "\n",
      "\n",
      "Problem 3(c):\n",
      "===================================================================\n",
      "Prior probabilities: Array of shape (20, )\n",
      "Constraint: sum of prior probabilities equals to 1.0\n",
      "\n",
      "\n",
      "[0.04259473 0.05155737 0.05075872 0.0520898  0.05102494 0.0525335\n",
      " 0.05164611 0.0525335  0.05288846 0.05271098 0.05306593 0.05271098\n",
      " 0.05244476 0.05271098 0.05262224 0.05315467 0.04836277 0.05004881\n",
      " 0.0411749  0.03336587]\n",
      "\n",
      "\n",
      "Likelihood probabilities: Matrix of shape (20, 61188)\n",
      "Constraint: sum of likelihood probabilities of each class equals to [1. 1. 1. 1. 1. 1. 1. 1. 1. 1. 1. 1. 1. 1. 1. 1. 1. 1. 1. 1.]\n",
      "\n",
      "\n",
      "[[6.66666667e-05 3.04761905e-04 1.31428571e-03 ... 4.76190476e-06\n",
      "  4.76190476e-06 4.76190476e-06]\n",
      " [3.55589754e-04 3.49760414e-04 5.82934024e-06 ... 5.82934024e-06\n",
      "  5.82934024e-06 5.82934024e-06]\n",
      " [7.89707479e-05 4.60662696e-04 6.58089566e-06 ... 6.58089566e-06\n",
      "  6.58089566e-06 6.58089566e-06]\n",
      " ...\n",
      " [3.48108977e-05 4.90517195e-04 3.16462706e-06 ... 3.16462706e-06\n",
      "  3.16462706e-06 3.16462706e-06]\n",
      " [4.03854386e-06 1.61541755e-04 4.03854386e-06 ... 4.03854386e-06\n",
      "  4.03854386e-06 4.03854386e-06]\n",
      " [5.54680393e-06 2.55152981e-04 5.54680393e-05 ... 5.54680393e-06\n",
      "  5.54680393e-06 5.54680393e-06]]\n",
      "\n",
      "\n"
     ]
    }
   ],
   "source": [
    "#model for 3c\n",
    "clf_3c = NaiveBayesMultinomial()\n",
    "clf_3c.fit(X_train, y_train)\n",
    "prior, likelihood = clf_3c.clf_instance()\n",
    "print(\"\\n\")\n",
    "print(f\"Problem 3(c):\")\n",
    "print(\"===================================================================\")\n",
    "print(f\"Prior probabilities: Array of shape ({prior.shape[0]}, )\")\n",
    "print(f\"Constraint: sum of prior probabilities equals to {np.sum(prior)}\")\n",
    "print(\"\\n\")\n",
    "print(f\"{prior}\")\n",
    "print(\"\\n\")\n",
    "print(f\"Likelihood probabilities: Matrix of shape ({likelihood.shape[0]}, {likelihood.shape[1]})\")\n",
    "print(f\"Constraint: sum of likelihood probabilities of each class equals to {np.sum(likelihood, axis=1)}\")\n",
    "print(\"\\n\")\n",
    "print(likelihood)\n",
    "print(\"\\n\")"
   ]
  },
  {
   "cell_type": "markdown",
   "metadata": {},
   "source": [
    "## Problem 3 (d)"
   ]
  },
  {
   "cell_type": "markdown",
   "metadata": {},
   "source": [
    "#### (d) Write a routine that uses this naive Bayes model to classify a new document. To avoid underflow, work with logs rather than multiplying together probabilities."
   ]
  },
  {
   "cell_type": "code",
   "execution_count": 13,
   "metadata": {
    "scrolled": false
   },
   "outputs": [
    {
     "name": "stdout",
     "output_type": "stream",
     "text": [
      "Problem 3(d):\n",
      "===================================================================\n",
      "Classifying Routines:\n",
      "\n",
      "    1. data:         load train data to DataFrame 'data' (see problem 3(b))\n",
      "       labels:       load train labels to DataFrame 'labels' (see problem 3(b))\n",
      "       test:         load test data to DataFrame 'test' (see problem 3(b))\n",
      "       test_labels:  load test labels to DataFrame 'test_labels' (see problem 3(b))\n",
      "           \n",
      "    2. X_train:      calculate term-frequency Matrix for X_train from DataFrame 'data'\n",
      "       y_train:      get labels information from DataFrame for y_train from DataFrame 'labels'\n",
      "       X_test:       calculate term-frequency Matrix for X_test from DataFrame 'test'\n",
      "       y_test:       get labels information from DataFrame for y_test from 'test_labels'\n",
      "           \n",
      "    3. define:       clf = NaiveBayesMultinomial() \n",
      "       fit:          clf.fit(X_train, y_train)\n",
      "       predict:      X_pred = clf.predict(X_test)\n",
      "       accuracy:     Accuracy = clf.accuracy(X_pred, y_test) \n",
      "              \n"
     ]
    }
   ],
   "source": [
    "print(\"\"\"Problem 3(d):\n",
    "===================================================================\n",
    "Classifying Routines:\n",
    "\n",
    "    1. data:         load train data to DataFrame 'data' (see problem 3(b))\n",
    "       labels:       load train labels to DataFrame 'labels' (see problem 3(b))\n",
    "       test:         load test data to DataFrame 'test' (see problem 3(b))\n",
    "       test_labels:  load test labels to DataFrame 'test_labels' (see problem 3(b))\n",
    "           \n",
    "    2. X_train:      calculate term-frequency Matrix for X_train from DataFrame 'data'\n",
    "       y_train:      get labels information from DataFrame for y_train from DataFrame 'labels'\n",
    "       X_test:       calculate term-frequency Matrix for X_test from DataFrame 'test'\n",
    "       y_test:       get labels information from DataFrame for y_test from 'test_labels'\n",
    "           \n",
    "    3. define:       clf = NaiveBayesMultinomial() \n",
    "       fit:          clf.fit(X_train, y_train)\n",
    "       predict:      X_pred = clf.predict(X_test)\n",
    "       accuracy:     Accuracy = clf.accuracy(X_pred, y_test) \n",
    "              \"\"\")"
   ]
  },
  {
   "cell_type": "code",
   "execution_count": 14,
   "metadata": {},
   "outputs": [
    {
     "name": "stdout",
     "output_type": "stream",
     "text": [
      "\n",
      "    In the fitting process, based on the input training data, a words-counts matrix will be generalized \n",
      "    first, I use term-frequency to name it however it actually stores the counts, then this matrix will \n",
      "    be used to calculate multinomial probabilities for every single words within each class, this is actually \n",
      "    the true term-frequency matrix, also this step will apply add-one smoothing. The last step is to find the \n",
      "    largest MAP estimator by calculating:\n",
      "\n"
     ]
    }
   ],
   "source": [
    "print(\"\"\"\n",
    "    In the fitting process, based on the input training data, a words-counts matrix will be generalized \n",
    "    first, I use term-frequency to name it however it actually stores the counts, then this matrix will \n",
    "    be used to calculate multinomial probabilities for every single words within each class, this is actually \n",
    "    the true term-frequency matrix, also this step will apply add-one smoothing. The last step is to find the \n",
    "    largest MAP estimator by calculating:\n",
    "\"\"\")"
   ]
  },
  {
   "cell_type": "markdown",
   "metadata": {},
   "source": [
    "$$\\underset{j}{\\operatorname{argmax}} log(\\pi_j)+\\sum^{|V|}_{i}X_i* log P_j(X_i)$$"
   ]
  },
  {
   "cell_type": "markdown",
   "metadata": {},
   "source": [
    "## Problem 3 (e)"
   ]
  },
  {
   "cell_type": "markdown",
   "metadata": {},
   "source": [
    "#### (e) Evaluate the performance of your model on the test data. What error rate do you achieve?"
   ]
  },
  {
   "cell_type": "code",
   "execution_count": 15,
   "metadata": {},
   "outputs": [],
   "source": [
    "X_test = bag_of_words(test, n_words)\n",
    "y_test = test_labels.Class.values"
   ]
  },
  {
   "cell_type": "code",
   "execution_count": 16,
   "metadata": {
    "scrolled": true
   },
   "outputs": [
    {
     "name": "stdout",
     "output_type": "stream",
     "text": [
      "Problem 3(d):\n",
      "===================================================================\n",
      "\n",
      "\n",
      "Initiating Naive-Bayes-Multinomial-Classifier: alpha=1, tf=f, tfidf=False\n",
      "\n",
      "\n",
      "PREDICTING ... ...\n",
      "\n",
      "\n",
      "Predicting on 7505 samples, Accuracy:0.781\n"
     ]
    },
    {
     "data": {
      "text/plain": [
       "0.7810792804796802"
      ]
     },
     "execution_count": 16,
     "metadata": {},
     "output_type": "execute_result"
    }
   ],
   "source": [
    "print(\"\"\"Problem 3(d):\n",
    "===================================================================\"\"\")\n",
    "print(\"\\n\")\n",
    "clf = NaiveBayesMultinomial()\n",
    "clf.fit(X_train, y_train)\n",
    "X_pred = clf.predict(X_test)\n",
    "print(\"\\n\")\n",
    "print(\"PREDICTING ... ...\")\n",
    "print(\"\\n\")\n",
    "clf.accuracy(X_pred, y_test)"
   ]
  },
  {
   "cell_type": "markdown",
   "metadata": {},
   "source": [
    "<br/><br/>"
   ]
  },
  {
   "cell_type": "markdown",
   "metadata": {},
   "source": [
    "## Problem 3 (f)"
   ]
  },
  {
   "cell_type": "markdown",
   "metadata": {},
   "source": [
    "#### Method 1: Apply log(1+f) and test on validation set"
   ]
  },
  {
   "cell_type": "code",
   "execution_count": 17,
   "metadata": {},
   "outputs": [],
   "source": [
    "from sklearn.model_selection import train_test_split\n",
    "X_train_, X_valid, y_train_, y_valid = train_test_split(X_train, y_train, test_size=0.2, random_state=42)"
   ]
  },
  {
   "cell_type": "code",
   "execution_count": 18,
   "metadata": {},
   "outputs": [
    {
     "name": "stdout",
     "output_type": "stream",
     "text": [
      "Initiating Naive-Bayes-Multinomial-Classifier: alpha=1, tf=log, tfidf=False\n",
      "Predicting on 2254 samples, Accuracy:0.84\n"
     ]
    }
   ],
   "source": [
    "clf_1 = NaiveBayesMultinomial(tf=\"log\")\n",
    "clf_1.fit(X_train_, y_train_)\n",
    "X_pred_1 = clf_1.predict(X_valid)\n",
    "acc_1 = clf_1.accuracy(X_pred_1, y_valid)"
   ]
  },
  {
   "cell_type": "markdown",
   "metadata": {},
   "source": [
    "### Accuracy on validation set increased dramatically, which was expected."
   ]
  },
  {
   "cell_type": "markdown",
   "metadata": {},
   "source": [
    "#### Method 2: Apply tf-idf and test on validation set"
   ]
  },
  {
   "cell_type": "markdown",
   "metadata": {},
   "source": [
    "$$idf(t, D) = log \\frac{N}{1+ |\\{d\\in D: t\\in d\\}|}$$\n",
    "\n",
    "N: total number of documents in the corpus $N=|D|$\n",
    "\n",
    "$|\\{d\\in D: t\\in d\\}|$: number of documents where the term t appears. If the term is not in the corpus, this will lead to a division by zero. Therefore it is common to adjust the denominator to $1+|\\{d\\in D: t\\in d\\}|$"
   ]
  },
  {
   "cell_type": "markdown",
   "metadata": {},
   "source": [
    "$$Tfidf = tf(t, D)*idf(t, D)$$"
   ]
  },
  {
   "cell_type": "code",
   "execution_count": 19,
   "metadata": {},
   "outputs": [],
   "source": [
    "#calculate tf matrix\n",
    "def multinomials(X_train, y_train):\n",
    "    n_classes = np.unique(y_train).shape[0]\n",
    "    tf = np.zeros((n_classes, n_words))\n",
    "    #X_train = X_train + 1\n",
    "    for j in range(20):\n",
    "        jth_class = X_train[y_train==j+1]\n",
    "        f = (np.sum(jth_class, axis=0)+1)/(np.sum(jth_class) + n_words)\n",
    "        tf[j] = f\n",
    "    return tf\n",
    "\n",
    "\n",
    "#calculate idf matrix\n",
    "def inverse_term_frequency(X, y, n_words):\n",
    "    n_classes = np.unique(y).shape[0]\n",
    "\n",
    "    idf = np.zeros((n_classes, n_words))\n",
    "    for i in range(20):\n",
    "        D = X[y==i+1]\n",
    "        N = np.array(D.shape[0])\n",
    "        df = np.count_nonzero(D, axis=0) + 1 #add 1 for smoothing\n",
    "        idf[i] = np.log(N/df)\n",
    "        \n",
    "    return idf\n",
    "\n",
    "\n",
    "# revised estimator with tfidf weight\n",
    "def estimator_tfidf(X_test, prior, tfidf):\n",
    "    if X_test.ndim == 1:\n",
    "        n_documents = 1\n",
    "    else:\n",
    "        n_documents = X_test.shape[0]\n",
    "\n",
    "    labels = np.zeros((n_documents, ))\n",
    "    for i in range(n_documents):\n",
    "        log_prob = np.sum(np.log(tfidf)*X_test[i], axis=1) + np.log(prior)\n",
    "        labels[i] = np.argmax(log_prob)+1\n",
    "    return labels"
   ]
  },
  {
   "cell_type": "code",
   "execution_count": 20,
   "metadata": {},
   "outputs": [
    {
     "data": {
      "text/plain": [
       "array([376, 471, 447, 465, 462, 461, 468, 467, 490, 479, 486, 480, 471,\n",
       "       480, 484, 473, 432, 447, 377, 299])"
      ]
     },
     "execution_count": 20,
     "metadata": {},
     "output_type": "execute_result"
    }
   ],
   "source": [
    "#number of documents\n",
    "N = np.array([X_train_[y_train_==i+1].shape[0] for i in range(20)])\n",
    "N"
   ]
  },
  {
   "cell_type": "code",
   "execution_count": 21,
   "metadata": {},
   "outputs": [],
   "source": [
    "tf = multinomials(X_train_, y_train_)"
   ]
  },
  {
   "cell_type": "code",
   "execution_count": 22,
   "metadata": {},
   "outputs": [],
   "source": [
    "idf = inverse_term_frequency(X_train_, y_train_, n_words)"
   ]
  },
  {
   "cell_type": "code",
   "execution_count": 23,
   "metadata": {},
   "outputs": [],
   "source": [
    "tfidf= tf*idf"
   ]
  },
  {
   "cell_type": "code",
   "execution_count": 24,
   "metadata": {},
   "outputs": [],
   "source": [
    "X_pred_2 = estimator_tfidf(X_valid, prior, tfidf)"
   ]
  },
  {
   "cell_type": "code",
   "execution_count": 25,
   "metadata": {},
   "outputs": [
    {
     "name": "stdout",
     "output_type": "stream",
     "text": [
      "Predicting on 2254 samples, Accuracy:0.761\n"
     ]
    }
   ],
   "source": [
    "acc_2 = X_pred_2[X_pred_2==y_valid].shape[0]/y_valid.shape[0]\n",
    "print(f\"Predicting on {y_valid.shape[0]} samples, Accuracy:{round(acc_2, 3)}\")"
   ]
  },
  {
   "cell_type": "markdown",
   "metadata": {},
   "source": [
    "### Not doing great as we expected."
   ]
  },
  {
   "cell_type": "code",
   "execution_count": 26,
   "metadata": {
    "scrolled": true
   },
   "outputs": [
    {
     "name": "stdout",
     "output_type": "stream",
     "text": [
      "Problem 3(d):\n",
      "===================================================================\n",
      "Applied log(1+f) on validation set, validate accuracy 0.8398402839396628\n",
      "\n",
      "Applied TF-IDF on validation set, validate accuracy 0.7613132209405501\n",
      "\n",
      "Need put in more work on consolidate final model and testing.\n"
     ]
    }
   ],
   "source": [
    "print(f\"\"\"Problem 3(d):\n",
    "===================================================================\n",
    "Applied log(1+f) on validation set, validate accuracy {acc_1}\n",
    "\n",
    "Applied TF-IDF on validation set, validate accuracy {acc_2}\n",
    "\n",
    "Need put in more work on consolidate final model and testing.\"\"\")"
   ]
  },
  {
   "cell_type": "markdown",
   "metadata": {},
   "source": [
    "<br/><br/>"
   ]
  },
  {
   "cell_type": "markdown",
   "metadata": {},
   "source": [
    "# Worksheet 9 Problem 4"
   ]
  },
  {
   "cell_type": "markdown",
   "metadata": {},
   "source": [
    "## Problem 4 (a) Load data"
   ]
  },
  {
   "cell_type": "code",
   "execution_count": 27,
   "metadata": {},
   "outputs": [],
   "source": [
    "# helper functions\n",
    "from struct import unpack\n",
    "import numpy as np\n",
    "import matplotlib.pylab as plt \n",
    "\n",
    "#load from \n",
    "def loadmnist(imagefile, labelfile):\n",
    "    # Open the images with gzip in read binary mode\n",
    "    images = open(imagefile, 'rb')\n",
    "    labels = open(labelfile, 'rb')\n",
    "\n",
    "    # Get metadata for images\n",
    "    images.read(4)  # skip the magic_number\n",
    "    number_of_images = images.read(4)\n",
    "    number_of_images = unpack('>I', number_of_images)[0]\n",
    "    rows = images.read(4)\n",
    "    rows = unpack('>I', rows)[0]\n",
    "    cols = images.read(4)\n",
    "    cols = unpack('>I', cols)[0]\n",
    "\n",
    "    # Get metadata for labels\n",
    "    labels.read(4)\n",
    "    N = labels.read(4)\n",
    "    N = unpack('>I', N)[0]\n",
    "\n",
    "    # Get data\n",
    "    x = np.zeros((N, rows*cols), dtype=np.uint8)  # Initialize numpy array\n",
    "    y = np.zeros(N, dtype=np.uint8)  # Initialize numpy array\n",
    "    for i in range(N):\n",
    "        for j in range(rows*cols):\n",
    "            tmp_pixel = images.read(1)  # Just a single byte\n",
    "            tmp_pixel = unpack('>B', tmp_pixel)[0]\n",
    "            x[i][j] = tmp_pixel\n",
    "        tmp_label = labels.read(1)\n",
    "        y[i] = unpack('>B', tmp_label)[0]\n",
    "\n",
    "    images.close()\n",
    "    labels.close()\n",
    "    return (x, y)\n",
    "\n",
    "#display a single data point\n",
    "def displaychar(image):\n",
    "    plt.imshow(np.reshape(image, (28,28)), cmap=plt.cm.gray)\n",
    "    plt.axis('off')\n",
    "    plt.show()"
   ]
  },
  {
   "cell_type": "code",
   "execution_count": 28,
   "metadata": {},
   "outputs": [],
   "source": [
    "#load unzipped file\n",
    "X, y = loadmnist('train-images-idx3-ubyte', 'train-labels-idx1-ubyte')"
   ]
  },
  {
   "cell_type": "code",
   "execution_count": 29,
   "metadata": {},
   "outputs": [
    {
     "name": "stdout",
     "output_type": "stream",
     "text": [
      "Problem 4(a):\n",
      "===================================================================\n",
      "Dimension of X: (60000, 784)\n",
      "Dimension of labels y: (60000,)\n"
     ]
    },
    {
     "data": {
      "image/png": "[encoded data removed]",
      "text/plain": [
       "<Figure size 432x288 with 1 Axes>"
      ]
     },
     "metadata": {
      "needs_background": "light"
     },
     "output_type": "display_data"
    },
    {
     "name": "stdout",
     "output_type": "stream",
     "text": [
      "Each single data entry represents an image of 28 x 28 pixels, each pixel represnets a greyscale ranging from 0 to 255.\n",
      "\n"
     ]
    }
   ],
   "source": [
    "print(f\"\"\"Problem 4(a):\n",
    "===================================================================\n",
    "Dimension of X: {X.shape}\n",
    "Dimension of labels y: {y.shape}\"\"\")\n",
    "\n",
    "displaychar(X[0])\n",
    "print(f\"\"\"Each single data entry represents an image of 28 x 28 pixels, each pixel represnets a greyscale ranging from 0 to 255.\n",
    "\"\"\")\n"
   ]
  },
  {
   "cell_type": "markdown",
   "metadata": {},
   "source": [
    "## Problem 4 (b) Split training data and load test data"
   ]
  },
  {
   "cell_type": "code",
   "execution_count": 30,
   "metadata": {},
   "outputs": [],
   "source": [
    "def train_valid_split(X,y):\n",
    "    train_index = np.random.choice(range(X.shape[0]), size=(50000,), replace=False)\n",
    "    valid_index = np.array([i for i in range(X.shape[0]) if i not in train_index])\n",
    "    \n",
    "    X_train = X[train_index]\n",
    "    X_valid = X[valid_index]\n",
    "    y_train = y[train_index]\n",
    "    y_valid = y[valid_index]\n",
    "    \n",
    "    return X_train, X_valid, y_train, y_valid"
   ]
  },
  {
   "cell_type": "code",
   "execution_count": 31,
   "metadata": {},
   "outputs": [],
   "source": [
    "X_train, X_valid, y_train, y_valid = train_valid_split(X,y)"
   ]
  },
  {
   "cell_type": "code",
   "execution_count": 32,
   "metadata": {},
   "outputs": [
    {
     "name": "stdout",
     "output_type": "stream",
     "text": [
      "Dimension of X_test:(10000, 784)\n",
      "Dimension of y_test:(10000,)\n"
     ]
    }
   ],
   "source": [
    "#load testing file\n",
    "X_test, y_test = loadmnist('t10k-images-idx3-ubyte', 't10k-labels-idx1-ubyte')\n",
    "print(f\"Dimension of X_test:{X_test.shape}\")\n",
    "print(f\"Dimension of y_test:{y_test.shape}\")"
   ]
  },
  {
   "cell_type": "code",
   "execution_count": 33,
   "metadata": {},
   "outputs": [
    {
     "name": "stdout",
     "output_type": "stream",
     "text": [
      "Problem 4(b):\n",
      "===================================================================\n",
      "After splitting training data:\n",
      "Dimension of X_train after splitting:(50000, 784)\n",
      "Dimension of y_train after splitting:(50000,)\n",
      "Dimension of X_valid after splitting:(10000, 784)\n",
      "Dimension of y_valid after splitting:(10000,)\n"
     ]
    }
   ],
   "source": [
    "print(f\"\"\"Problem 4(b):\n",
    "===================================================================\n",
    "After splitting training data:\"\"\")\n",
    "print(f\"Dimension of X_train after splitting:{X_train.shape}\")\n",
    "print(f\"Dimension of y_train after splitting:{y_train.shape}\")\n",
    "print(f\"Dimension of X_valid after splitting:{X_valid.shape}\")\n",
    "print(f\"Dimension of y_valid after splitting:{y_valid.shape}\")"
   ]
  },
  {
   "cell_type": "markdown",
   "metadata": {},
   "source": [
    "## Problem 4 (c) Fit a Gaussian model and predict"
   ]
  },
  {
   "cell_type": "code",
   "execution_count": 34,
   "metadata": {},
   "outputs": [],
   "source": [
    "class Gaussian_clf():\n",
    "    \n",
    "    def __init__(self, var_smoothing=1e-2):\n",
    "        self.var_smoothing = var_smoothing\n",
    "\n",
    "       \n",
    "    def _prior_prob(self, y):\n",
    "        self.n_classes = np.unique(y).shape[0]\n",
    "        return np.array([y[y==i].shape[0]/y.shape[0] for i in range(self.n_classes)])\n",
    "    \n",
    "    \n",
    "    def fit(self, X, y):\n",
    "        \"\"\"\n",
    "        X: array-like of shape (n_samples, n_features)\n",
    "           n_samples is the number of samples\n",
    "           and n_features is the number of features.\n",
    "        y: array-like of shape (n_classes,)\n",
    "           n_classes is the number of classes\n",
    "        \"\"\"\n",
    "        self.priors = self._prior_prob(y)\n",
    "        self.n_features = X.shape[1]\n",
    "        \n",
    "        self.mu = np.array([X[np.where(y==i)].mean(axis=0) for i in range(self.n_classes)])\n",
    "        \n",
    "        sigma = np.array([np.cov(X[np.where(y==i)].T) for i in range(self.n_classes)])\n",
    "        self.sigma = sigma + np.eye(self.n_features)*self.var_smoothing #smoothing covariance matrix\n",
    "        \n",
    "        return self.priors, self.mu, self.sigma\n",
    "    \n",
    "    \n",
    "    def predict_proba(self, X):\n",
    "        \"\"\"\n",
    "        X: array-like of shape (n_samples, n_features)\n",
    "           \n",
    "        probas: array-like of shape (n_samples, )\n",
    "                maximum probabilty of samples among different classes\n",
    "        \"\"\"\n",
    "        if X.ndim == 1:\n",
    "            self.n_samples = 1\n",
    "        else:\n",
    "            self.n_samples = X.shape[0]\n",
    "        \n",
    "        #pass in the whole trainning data into mvn.logpdf()\n",
    "        log_likelihood = np.array([mvn.logpdf(X, mean=self.mu[j],cov=self.sigma[j]) for j in range(self.n_classes)]) \n",
    "        # summation of log(p_j) and p_j(X) by broadcasting\n",
    "        probas = np.log(self.priors) + log_likelihood.T\n",
    "        \n",
    "        return probas\n",
    "    \n",
    "        #using loops\n",
    "        #probs = np.zeros((self.n_classes, self.n_samples))\n",
    "        #for i in range(10):\n",
    "            #probs[i] = np.log(pi[i]) + mvn.logpdf(X, mean=self.mu[i], cov=self.sigma[i])\n",
    "        #return probs\n",
    "    \n",
    "        \n",
    "    def predict(self, X):\n",
    "        \"\"\"\n",
    "        X: array-like of shape (n_samples, n_features)\n",
    "           \n",
    "        res: array-like of shape (n_samples, )\n",
    "            class labels for each sample\n",
    "        \"\"\"\n",
    "        probs = self.predict_proba(X)\n",
    "        \n",
    "        return np.argmax(probs, axis=1)"
   ]
  },
  {
   "cell_type": "code",
   "execution_count": 35,
   "metadata": {},
   "outputs": [],
   "source": [
    "clf_4 = Gaussian_clf()\n",
    "priors, mu, sigma = clf_4.fit(X_train, y_train)\n",
    "log_likelihood = clf_4.predict_proba(X_valid)"
   ]
  },
  {
   "cell_type": "code",
   "execution_count": 36,
   "metadata": {},
   "outputs": [
    {
     "name": "stdout",
     "output_type": "stream",
     "text": [
      "Problem 4(c):\n",
      "===================================================================\n",
      "Prior Probabilities:\n",
      "[0.09792 0.11202 0.09946 0.10188 0.09784 0.09042 0.0988  0.10518 0.09742\n",
      " 0.09906]\n",
      "---------------------------------------------------------\n",
      "Mean Vector:\n",
      "[[0. 0. 0. ... 0. 0. 0.]\n",
      " [0. 0. 0. ... 0. 0. 0.]\n",
      " [0. 0. 0. ... 0. 0. 0.]\n",
      " ...\n",
      " [0. 0. 0. ... 0. 0. 0.]\n",
      " [0. 0. 0. ... 0. 0. 0.]\n",
      " [0. 0. 0. ... 0. 0. 0.]]\n",
      "---------------------------------------------------------\n",
      "Covariance Matrix(Smoothed with Constant 0.01)\n",
      "[[[0.01 0.   0.   ... 0.   0.   0.  ]\n",
      "  [0.   0.01 0.   ... 0.   0.   0.  ]\n",
      "  [0.   0.   0.01 ... 0.   0.   0.  ]\n",
      "  ...\n",
      "  [0.   0.   0.   ... 0.01 0.   0.  ]\n",
      "  [0.   0.   0.   ... 0.   0.01 0.  ]\n",
      "  [0.   0.   0.   ... 0.   0.   0.01]]\n",
      "\n",
      " [[0.01 0.   0.   ... 0.   0.   0.  ]\n",
      "  [0.   0.01 0.   ... 0.   0.   0.  ]\n",
      "  [0.   0.   0.01 ... 0.   0.   0.  ]\n",
      "  ...\n",
      "  [0.   0.   0.   ... 0.01 0.   0.  ]\n",
      "  [0.   0.   0.   ... 0.   0.01 0.  ]\n",
      "  [0.   0.   0.   ... 0.   0.   0.01]]\n",
      "\n",
      " [[0.01 0.   0.   ... 0.   0.   0.  ]\n",
      "  [0.   0.01 0.   ... 0.   0.   0.  ]\n",
      "  [0.   0.   0.01 ... 0.   0.   0.  ]\n",
      "  ...\n",
      "  [0.   0.   0.   ... 0.01 0.   0.  ]\n",
      "  [0.   0.   0.   ... 0.   0.01 0.  ]\n",
      "  [0.   0.   0.   ... 0.   0.   0.01]]\n",
      "\n",
      " ...\n",
      "\n",
      " [[0.01 0.   0.   ... 0.   0.   0.  ]\n",
      "  [0.   0.01 0.   ... 0.   0.   0.  ]\n",
      "  [0.   0.   0.01 ... 0.   0.   0.  ]\n",
      "  ...\n",
      "  [0.   0.   0.   ... 0.01 0.   0.  ]\n",
      "  [0.   0.   0.   ... 0.   0.01 0.  ]\n",
      "  [0.   0.   0.   ... 0.   0.   0.01]]\n",
      "\n",
      " [[0.01 0.   0.   ... 0.   0.   0.  ]\n",
      "  [0.   0.01 0.   ... 0.   0.   0.  ]\n",
      "  [0.   0.   0.01 ... 0.   0.   0.  ]\n",
      "  ...\n",
      "  [0.   0.   0.   ... 0.01 0.   0.  ]\n",
      "  [0.   0.   0.   ... 0.   0.01 0.  ]\n",
      "  [0.   0.   0.   ... 0.   0.   0.01]]\n",
      "\n",
      " [[0.01 0.   0.   ... 0.   0.   0.  ]\n",
      "  [0.   0.01 0.   ... 0.   0.   0.  ]\n",
      "  [0.   0.   0.01 ... 0.   0.   0.  ]\n",
      "  ...\n",
      "  [0.   0.   0.   ... 0.01 0.   0.  ]\n",
      "  [0.   0.   0.   ... 0.   0.01 0.  ]\n",
      "  [0.   0.   0.   ... 0.   0.   0.01]]]\n",
      "---------------------------------------------------------\n",
      "Log(Prior*Likelihood) estimated with training data:\n",
      "[[-2.57945538e+03 -1.13410183e+05 -2.11688751e+03 ... -9.90803492e+03\n",
      "  -4.64063610e+03 -3.16383374e+04]\n",
      " [-5.00835098e+03 -2.71777435e+06 -4.68304468e+04 ... -8.74190900e+03\n",
      "  -2.07535708e+03 -3.23734013e+04]\n",
      " [-3.10355670e+05 -1.95397844e+05 -3.10431072e+05 ... -2.07021746e+03\n",
      "  -3.10055442e+05 -3.10091184e+05]\n",
      " ...\n",
      " [-8.69502410e+04 -2.12315544e+05 -1.94708626e+06 ... -1.97553369e+03\n",
      "  -5.64536088e+04 -5.44719647e+04]\n",
      " [-3.64161964e+06 -5.29080885e+06 -2.39401200e+04 ... -1.57100930e+07\n",
      "  -3.64284394e+06 -1.00861117e+07]\n",
      " [-8.40531637e+06 -8.46833338e+06 -5.91488873e+06 ... -2.48320246e+03\n",
      "  -1.54586788e+06 -3.48969419e+03]]\n"
     ]
    }
   ],
   "source": [
    "print(f\"\"\"Problem 4(c):\n",
    "===================================================================\n",
    "Prior Probabilities:\n",
    "{priors}\n",
    "---------------------------------------------------------\n",
    "Mean Vector:\n",
    "{mu}\n",
    "---------------------------------------------------------\n",
    "Covariance Matrix(Smoothed with Constant 0.01)\n",
    "{sigma}\n",
    "---------------------------------------------------------\n",
    "Log(Prior*Likelihood) estimated with training data:\n",
    "{log_likelihood}\"\"\")"
   ]
  },
  {
   "cell_type": "markdown",
   "metadata": {},
   "source": [
    "## Problem 4 (d) Select smooth constant and classify on test data"
   ]
  },
  {
   "cell_type": "code",
   "execution_count": 37,
   "metadata": {},
   "outputs": [],
   "source": [
    "def cal_err_rate(X, y, var_smoothing):\n",
    "    err_index = X[X!=y]\n",
    "    err_rate = err_index.shape[0]/y.shape[0]\n",
    "   # err_rate = 1-np.mean(X==y)\n",
    "    print(f\"Smoothing constant: {var_smoothing}     Classifier ERROR RATE: {round(err_rate*100, 2)}%\")\n",
    "    return err_rate\n",
    "\n",
    "def choose_smooth_var(X_train, y_train, X_test, y_test, var_smoothing_selections):\n",
    "    print(f\"RUNNING SMOOTHING CONSTANT SLECTION FROM {var_smoothing_selections}\")\n",
    "    print(f\"----------------------------------------------------------------------\")\n",
    "    \n",
    "    err = {}\n",
    "    for c in var_smoothing_selections:\n",
    "        clf = Gaussian_clf(var_smoothing=c) #define classifier from our implementation\n",
    "        clf.fit(X_train, y_train)\n",
    "        X_pred = clf.predict(X_test)\n",
    "        err[c] = cal_err_rate(X_pred, y_test, c)\n",
    "\n",
    "    min_err = min(err.values());  \n",
    "    best_c = [key for key, value in err.items() if value == min_err]\n",
    "    \n",
    "    print(f\"----------------------------------------------------------------------\")\n",
    "    print(f\"The best smoothing constant among {len(var_smoothing_selections)} selections is {best_c[0]}\")\n",
    "    \n",
    "    return err"
   ]
  },
  {
   "cell_type": "code",
   "execution_count": 38,
   "metadata": {},
   "outputs": [
    {
     "name": "stdout",
     "output_type": "stream",
     "text": [
      "Problem 4(d):\n",
      "======================================================================\n",
      "RUNNING SMOOTHING CONSTANT SLECTION FROM [10000.0, 1000.0, 100.0, 10.0, 1.0, 0.1, 0.01, 0.001]\n",
      "----------------------------------------------------------------------\n",
      "Smoothing constant: 10000.0     Classifier ERROR RATE: 5.71%\n",
      "Smoothing constant: 1000.0     Classifier ERROR RATE: 5.67%\n",
      "Smoothing constant: 100.0     Classifier ERROR RATE: 8.94%\n",
      "Smoothing constant: 10.0     Classifier ERROR RATE: 12.96%\n",
      "Smoothing constant: 1.0     Classifier ERROR RATE: 16.61%\n",
      "Smoothing constant: 0.1     Classifier ERROR RATE: 19.48%\n",
      "Smoothing constant: 0.01     Classifier ERROR RATE: 22.37%\n",
      "Smoothing constant: 0.001     Classifier ERROR RATE: 24.73%\n",
      "----------------------------------------------------------------------\n",
      "The best smoothing constant among 8 selections is 1000.0\n",
      "\n",
      "\n"
     ]
    },
    {
     "data": {
      "image/png": "[encoded data removed]",
      "text/plain": [
       "<Figure size 432x288 with 1 Axes>"
      ]
     },
     "metadata": {
      "needs_background": "light"
     },
     "output_type": "display_data"
    },
    {
     "name": "stdout",
     "output_type": "stream",
     "text": [
      "\n",
      "\n",
      "Running Gaussian classifier with smoothing constant 1000 on test data ...\n",
      "Smoothing constant: 1000     Classifier ERROR RATE: 4.88%\n",
      "\n",
      "\n"
     ]
    }
   ],
   "source": [
    "print(f\"\"\"Problem 4(d):\n",
    "======================================================================\"\"\")\n",
    "var_smoothing_selections = [1e4, 1e3, 1e2, 1e1, 1e0, 1e-1, 1e-2, 1e-3]\n",
    "err_info = choose_smooth_var(X_train, y_train, X_valid, y_valid, var_smoothing_selections)\n",
    "\n",
    "print(\"\\n\")\n",
    "#display error rate trends with different smoothing constants\n",
    "plt.scatter([*err_info.keys()], [*err_info.values()])\n",
    "plt.plot([*err_info.keys()], [*err_info.values()])\n",
    "plt.grid()\n",
    "plt.show()\n",
    "\n",
    "print(\"\\n\")\n",
    "print(\"Running Gaussian classifier with smoothing constant 1000 on test data ...\")\n",
    "clf_5 = Gaussian_clf(var_smoothing=1000)\n",
    "priors_, mu_, sigma_ = clf_5.fit(X_train, y_train)\n",
    "X_pred_5 = clf_5.predict(X_test)\n",
    "\n",
    "err_rate = cal_err_rate(X_pred_5, y_test, 1000)\n",
    "print(\"\\n\")"
   ]
  },
  {
   "cell_type": "markdown",
   "metadata": {},
   "source": [
    "## Problem 4 (e) "
   ]
  },
  {
   "cell_type": "code",
   "execution_count": 39,
   "metadata": {},
   "outputs": [],
   "source": [
    "def pick_five():\n",
    "    mis_idx = []\n",
    "    for idx, v in np.ndenumerate(X_pred_5):\n",
    "        if v != y_test[idx]:\n",
    "            mis_idx.append(idx[0])\n",
    "            \n",
    "    to_display = np.random.choice(mis_idx, 5)\n",
    "    return to_display"
   ]
  },
  {
   "cell_type": "code",
   "execution_count": 40,
   "metadata": {},
   "outputs": [],
   "source": [
    "def display_five(picks):\n",
    "    \n",
    "    fig, axs = plt.subplots(1,5,figsize=(15,15))\n",
    "    fig.suptitle(\"FIVE RANDOM PICKED MISCLASSIFIED DIGITS FROM TEST SET\")\n",
    "    fig.tight_layout()\n",
    "    fig.subplots_adjust(top=1.6)\n",
    "    for i in range(5):\n",
    "        axs[i].imshow(np.reshape(X_test[to_display[i]], (28,28)), cmap=plt.cm.gray)\n",
    "        axs[i].set_title(f\"digit at index {to_display[i]} --> {int(X_pred[to_display[i]])}\")\n",
    "        axs[i].axis('off')"
   ]
  },
  {
   "cell_type": "code",
   "execution_count": 42,
   "metadata": {},
   "outputs": [
    {
     "name": "stdout",
     "output_type": "stream",
     "text": [
      "Problem 4(e):\n",
      "================================================================================================\n",
      "Note: Since Underflows happened when calculate posterior probabilities, \n",
      "      below will display log(Prior*Likelihood) instead.\n",
      "\n",
      "\n",
      "log(Prior*Likelihood) of mis-classified sample at index 1112 is:\n",
      "[-3795.30984739 -4443.51799628 -3793.6943423  -3830.93948696\n",
      " -3788.8983539  -3871.19081636 -3733.42718484 -3988.08275509\n",
      " -3900.26422426 -3921.62743694]\n",
      "------------------------------------------------------------------\n",
      "log(Prior*Likelihood) of mis-classified sample at index 111 is:\n",
      "[-3863.73993826 -3661.32413385 -3767.6002025  -3775.8772335\n",
      " -3726.10439819 -3826.12808683 -3950.13435406 -3668.95527172\n",
      " -3710.6308751  -3707.10339057]\n",
      "------------------------------------------------------------------\n",
      "log(Prior*Likelihood) of mis-classified sample at index 4433 is:\n",
      "[-4103.32227388 -4245.79533894 -3810.50134923 -3849.60735112\n",
      " -3856.64316505 -3930.20805838 -4091.59735741 -3906.87311232\n",
      " -3967.65731837 -4108.09837042]\n",
      "------------------------------------------------------------------\n",
      "log(Prior*Likelihood) of mis-classified sample at index 282 is:\n",
      "[-3872.25142182 -3755.83385207 -3781.78058546 -3766.12317415\n",
      " -3732.07319747 -3818.20616673 -3902.55617852 -3717.80804045\n",
      " -3738.13763961 -3709.07327578]\n",
      "------------------------------------------------------------------\n",
      "log(Prior*Likelihood) of mis-classified sample at index 3078 is:\n",
      "[-3838.78817214 -3779.77466495 -3805.17835836 -3747.61502637\n",
      " -3775.43239096 -3767.82521093 -3861.72286327 -3818.31602327\n",
      " -3735.23985753 -3792.03311   ]\n",
      "------------------------------------------------------------------\n"
     ]
    },
    {
     "data": {
      "image/png": "[encoded data removed]",
      "text/plain": [
       "<Figure size 1080x1080 with 5 Axes>"
      ]
     },
     "metadata": {
      "needs_background": "light"
     },
     "output_type": "display_data"
    }
   ],
   "source": [
    "log_likelihood_5 = clf_5.predict_proba(X_test)\n",
    "to_display = pick_five()\n",
    "\n",
    "print(f\"\"\"Problem 4(e):\n",
    "================================================================================================\"\"\")\n",
    "display_five(to_display)\n",
    "\n",
    "print(f\"\"\"Note: Since Underflows happened when calculate posterior probabilities, \n",
    "      below will display log(Prior*Likelihood) instead.\"\"\")\n",
    "print(\"\\n\")\n",
    "for i in to_display:\n",
    "    print(f\"log(Prior*Likelihood) of mis-classified sample at index {i} is:\")\n",
    "    print(log_likelihood_5[i])\n",
    "    print(\"------------------------------------------------------------------\")"
   ]
  },
  {
   "cell_type": "markdown",
   "metadata": {},
   "source": [
    "<br/><br/>"
   ]
  },
  {
   "cell_type": "markdown",
   "metadata": {},
   "source": [
    "# Worksheet 10 Problem 2"
   ]
  },
  {
   "cell_type": "markdown",
   "metadata": {},
   "source": [
    "1. For this problem, we’ll be using the animals with attributes data set. Go to\n",
    "    http://attributes.kyb.tuebingen.mpg.de and, under “Downloads”, choose the “base package” (the very first file in thelist). Unzip it and look over the various text files. \n",
    "    \n",
    "2. This is a small data set that has information about 50 animals. The animals are listed in classes.txt. For each animal, the information consists of values for 85 features: does the animal have a tail, is it slow, does it have tusks, etc. The details of the features are in predicates.txt. The full data consists of a 50 × 85 matrix of real values, in predicate-matrix-continuous.txt. There is also a binarized version of this data, in predicate-matrix-binary.txt."
   ]
  },
  {
   "cell_type": "markdown",
   "metadata": {},
   "source": [
    "# Problem 2(a)"
   ]
  },
  {
   "cell_type": "markdown",
   "metadata": {},
   "source": [
    "#### (a) Load the real-valued array, and also the animal names, into Python. Run k-means on the data (from sklearn.cluster) and ask for k = 10 clusters. For each cluster, list the animals in it. Does the clustering make sense?"
   ]
  },
  {
   "cell_type": "code",
   "execution_count": 43,
   "metadata": {},
   "outputs": [
    {
     "data": {
      "text/plain": [
       "array(['antelope', 'grizzly+bear', 'killer+whale', 'beaver', 'dalmatian',\n",
       "       'persian+cat', 'horse', 'german+shepherd', 'blue+whale',\n",
       "       'siamese+cat', 'skunk', 'mole', 'tiger', 'hippopotamus', 'leopard',\n",
       "       'moose', 'spider+monkey', 'humpback+whale', 'elephant', 'gorilla',\n",
       "       'ox', 'fox', 'sheep', 'seal', 'chimpanzee', 'hamster', 'squirrel',\n",
       "       'rhinoceros', 'rabbit', 'bat', 'giraffe', 'wolf', 'chihuahua',\n",
       "       'rat', 'weasel', 'otter', 'buffalo', 'zebra', 'giant+panda',\n",
       "       'deer', 'bobcat', 'pig', 'lion', 'mouse', 'polar+bear', 'collie',\n",
       "       'walrus', 'raccoon', 'cow', 'dolphin'], dtype=object)"
      ]
     },
     "execution_count": 43,
     "metadata": {},
     "output_type": "execute_result"
    }
   ],
   "source": [
    "names = pd.read_csv(\"classes.txt\", delimiter = \"\\t\", header = None)\n",
    "names = names.rename(columns={0: \"Class\", 1:\"name\"})\n",
    "names = names.name.values\n",
    "names"
   ]
  },
  {
   "cell_type": "code",
   "execution_count": 44,
   "metadata": {},
   "outputs": [
    {
     "data": {
      "text/plain": [
       "array(['black', 'white', 'blue', 'brown', 'gray', 'orange', 'red',\n",
       "       'yellow', 'patches', 'spots', 'stripes', 'furry', 'hairless',\n",
       "       'toughskin', 'big', 'small', 'bulbous', 'lean', 'flippers',\n",
       "       'hands', 'hooves', 'pads', 'paws', 'longleg', 'longneck', 'tail',\n",
       "       'chewteeth', 'meatteeth', 'buckteeth', 'strainteeth', 'horns',\n",
       "       'claws', 'tusks', 'smelly', 'flys', 'hops', 'swims', 'tunnels',\n",
       "       'walks', 'fast', 'slow', 'strong', 'weak', 'muscle', 'bipedal',\n",
       "       'quadrapedal', 'active', 'inactive', 'nocturnal', 'hibernate',\n",
       "       'agility', 'fish', 'meat', 'plankton', 'vegetation', 'insects',\n",
       "       'forager', 'grazer', 'hunter', 'scavenger', 'skimmer', 'stalker',\n",
       "       'newworld', 'oldworld', 'arctic', 'coastal', 'desert', 'bush',\n",
       "       'plains', 'forest', 'fields', 'jungle', 'mountains', 'ocean',\n",
       "       'ground', 'water', 'tree', 'cave', 'fierce', 'timid', 'smart',\n",
       "       'group', 'solitary', 'nestspot', 'domestic'], dtype=object)"
      ]
     },
     "execution_count": 44,
     "metadata": {},
     "output_type": "execute_result"
    }
   ],
   "source": [
    "features_df = pd.read_csv(\"predicates.txt\", delimiter = \"\\t\", header = None)\n",
    "features = features_df.iloc[:,-1].values\n",
    "features"
   ]
  },
  {
   "cell_type": "code",
   "execution_count": 45,
   "metadata": {},
   "outputs": [
    {
     "data": {
      "text/plain": [
       "array([[-1.  , -1.  , -1.  , ...,  2.35,  9.7 ,  8.38],\n",
       "       [39.25,  1.39,  0.  , ..., 58.64, 20.14, 11.39],\n",
       "       [83.4 , 64.79,  0.  , ..., 15.77, 13.41, 15.42],\n",
       "       ...,\n",
       "       [63.57, 43.1 ,  0.  , ..., 35.95, 28.26,  5.  ],\n",
       "       [55.31, 55.46,  0.  , ...,  5.04, 18.89, 72.99],\n",
       "       [10.22, 21.53, 27.73, ...,  3.96, 14.05, 37.98]])"
      ]
     },
     "execution_count": 45,
     "metadata": {},
     "output_type": "execute_result"
    }
   ],
   "source": [
    "values_df = pd.read_csv(\"predicate-matrix-continuous.txt\", delim_whitespace=True, header = None)\n",
    "X = values_df.values\n",
    "X"
   ]
  },
  {
   "cell_type": "code",
   "execution_count": 46,
   "metadata": {},
   "outputs": [],
   "source": [
    "kmeans = KMeans(n_clusters=10, random_state=0).fit(X)"
   ]
  },
  {
   "cell_type": "code",
   "execution_count": 47,
   "metadata": {
    "scrolled": true
   },
   "outputs": [],
   "source": [
    "cluster_index = kmeans.predict(X)"
   ]
  },
  {
   "cell_type": "code",
   "execution_count": 48,
   "metadata": {},
   "outputs": [],
   "source": [
    "def list_names():\n",
    "    name_dic = {i: [] for i in range(10)}\n",
    "    for i, j in enumerate(cluster_index):\n",
    "        name_dic[j].append(names[i])\n",
    "     \n",
    "    #return name_dic\n",
    "    for key, value in name_dic.items():\n",
    "        print(f\"Cluster {key+1} has animals: {value}\")"
   ]
  },
  {
   "cell_type": "code",
   "execution_count": 49,
   "metadata": {
    "scrolled": false
   },
   "outputs": [
    {
     "name": "stdout",
     "output_type": "stream",
     "text": [
      "Problem 2(a):\n",
      "===================================================================\n",
      "Cluster 1 has animals: ['persian+cat', 'skunk', 'mole', 'hamster', 'squirrel', 'rabbit', 'chihuahua', 'rat', 'weasel', 'mouse', 'raccoon']\n",
      "Cluster 2 has animals: ['killer+whale', 'blue+whale', 'humpback+whale', 'seal', 'walrus', 'dolphin']\n",
      "Cluster 3 has animals: ['dalmatian', 'german+shepherd', 'siamese+cat', 'fox', 'wolf', 'collie']\n",
      "Cluster 4 has animals: ['antelope', 'giraffe', 'deer']\n",
      "Cluster 5 has animals: ['hippopotamus', 'elephant', 'rhinoceros']\n",
      "Cluster 6 has animals: ['spider+monkey', 'gorilla', 'chimpanzee', 'bat']\n",
      "Cluster 7 has animals: ['horse', 'moose', 'ox', 'sheep', 'buffalo', 'zebra', 'giant+panda', 'pig', 'cow']\n",
      "Cluster 8 has animals: ['tiger', 'leopard', 'bobcat', 'lion']\n",
      "Cluster 9 has animals: ['grizzly+bear', 'polar+bear']\n",
      "Cluster 10 has animals: ['beaver', 'otter']\n",
      " \n",
      "      The result makes sense to some extent, such as cluster 2 segragated all marine mammals, \n",
      "      cluster 8 segragated “big cats”, cluster 9 has bears, etc. However, the 'persian+cat' shouldn't \n",
      "      appear in cluster 1, 'siamese+cat' shouldn't appear in cluster 3 and 'bat' shouldn't be grouped \n",
      "      with “Apes” in cluster 6.\n"
     ]
    }
   ],
   "source": [
    "print(f\"Problem 2(a):\")\n",
    "print(f\"===================================================================\")\n",
    "list_names()\n",
    "print(\"\"\" \n",
    "      The result makes sense to some extent, such as cluster 2 segragated all marine mammals, \n",
    "      cluster 8 segragated “big cats”, cluster 9 has bears, etc. However, the 'persian+cat' shouldn't \n",
    "      appear in cluster 1, 'siamese+cat' shouldn't appear in cluster 3 and 'bat' shouldn't be grouped \n",
    "      with “Apes” in cluster 6.\"\"\")"
   ]
  },
  {
   "cell_type": "markdown",
   "metadata": {},
   "source": [
    "# Problem 2(b)"
   ]
  },
  {
   "cell_type": "markdown",
   "metadata": {},
   "source": [
    "#### (b) Now hierarchically cluster this data, using scipy.cluster.hierarchy.linkage. Choose Ward’s method, and plot the resulting tree using the dendrogram method, setting the orientation parameter to ‘right’ and labeling each leaf with the corresponding animal name. You will run into a problem: the plot is too cramped because the default figure size is so small. To make it larger, preface your code with the following:\n",
    "~~~python\n",
    "from pylab import rcParams\n",
    "rcParams[’figure.figsize’] = 5, 10\n",
    "~~~\n",
    "#### (or try a different size if this doesn’t seem quite right). Does the hierarchical clustering seem sensible to you?"
   ]
  },
  {
   "cell_type": "code",
   "execution_count": 50,
   "metadata": {
    "scrolled": false
   },
   "outputs": [
    {
     "name": "stdout",
     "output_type": "stream",
     "text": [
      "Problem 2(b):\n",
      "===================================================================\n"
     ]
    },
    {
     "data": {
      "image/png": "[encoded data removed]",
      "text/plain": [
       "<Figure size 1800x1296 with 1 Axes>"
      ]
     },
     "metadata": {
      "needs_background": "light"
     },
     "output_type": "display_data"
    },
    {
     "name": "stdout",
     "output_type": "stream",
     "text": [
      " \n",
      "      This result makes more sense, from the hierarchy above, it clearly segragated 50 animals \n",
      "      into three main groups(herbivores, marine mammals and other mammals), and it splits the \n",
      "      mammals other than marine mammals further into two sub-groups(omnivores and carnivore). \n",
      "      Also, it makes up the misclassify of 'siamese+cat' and 'persian+cat', which were mistakenly \n",
      "      grouped by the K-means classifier in 2(a).\n"
     ]
    }
   ],
   "source": [
    "linkage_arr = linkage(X, method='ward')\n",
    "fig = plt.figure(figsize=(25, 18))\n",
    "dn = dendrogram(linkage_arr, orientation='right', labels=names)\n",
    "#plt.rcParams['axes.labelsize'] = 30\n",
    "print(f\"Problem 2(b):\")\n",
    "print(f\"===================================================================\")\n",
    "plt.show()\n",
    "print(\"\"\" \n",
    "      This result makes more sense, from the hierarchy above, it clearly segragated 50 animals \n",
    "      into three main groups(herbivores, marine mammals and other mammals), and it splits the \n",
    "      mammals other than marine mammals further into two sub-groups(omnivores and carnivore). \n",
    "      Also, it makes up the misclassify of 'siamese+cat' and 'persian+cat', which were mistakenly \n",
    "      grouped by the K-means classifier in 2(a).\"\"\")"
   ]
  }
 ],
 "metadata": {
  "kernelspec": {
   "display_name": "Python 3",
   "language": "python",
   "name": "python3"
  },
  "language_info": {
   "codemirror_mode": {
    "name": "ipython",
    "version": 3
   },
   "file_extension": ".py",
   "mimetype": "text/x-python",
   "name": "python",
   "nbconvert_exporter": "python",
   "pygments_lexer": "ipython3",
   "version": "3.7.7"
  }
 },
 "nbformat": 4,
 "nbformat_minor": 5
}
